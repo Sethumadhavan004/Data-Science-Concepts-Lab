{
 "cells": [
  {
   "cell_type": "code",
   "execution_count": 1,
   "id": "6fb0eccd",
   "metadata": {},
   "outputs": [],
   "source": [
    "import pandas as pd\n",
    "import numpy as np\n",
    "import warnings\n",
    "warnings.simplefilter(\"ignore\")"
   ]
  },
  {
   "cell_type": "code",
   "execution_count": 4,
   "id": "fc1b1dbf",
   "metadata": {},
   "outputs": [
    {
     "data": {
      "text/html": [
       "<div>\n",
       "<style scoped>\n",
       "    .dataframe tbody tr th:only-of-type {\n",
       "        vertical-align: middle;\n",
       "    }\n",
       "\n",
       "    .dataframe tbody tr th {\n",
       "        vertical-align: top;\n",
       "    }\n",
       "\n",
       "    .dataframe thead th {\n",
       "        text-align: right;\n",
       "    }\n",
       "</style>\n",
       "<table border=\"1\" class=\"dataframe\">\n",
       "  <thead>\n",
       "    <tr style=\"text-align: right;\">\n",
       "      <th></th>\n",
       "      <th>status_id</th>\n",
       "      <th>text</th>\n",
       "      <th>created_at</th>\n",
       "      <th>favorite_count</th>\n",
       "      <th>retweet_count</th>\n",
       "      <th>location</th>\n",
       "      <th>followers_count</th>\n",
       "      <th>friends_count</th>\n",
       "      <th>statuses_count</th>\n",
       "      <th>category</th>\n",
       "    </tr>\n",
       "  </thead>\n",
       "  <tbody>\n",
       "    <tr>\n",
       "      <th>0</th>\n",
       "      <td>1046207313588230000</td>\n",
       "      <td>Entitled, obnoxious, defensive, lying weasel. ...</td>\n",
       "      <td>2018-09-30T01:17:15Z</td>\n",
       "      <td>5</td>\n",
       "      <td>1</td>\n",
       "      <td>McAllen, TX</td>\n",
       "      <td>2253</td>\n",
       "      <td>2303</td>\n",
       "      <td>23856</td>\n",
       "      <td>0</td>\n",
       "    </tr>\n",
       "    <tr>\n",
       "      <th>1</th>\n",
       "      <td>1046207328113080000</td>\n",
       "      <td>Thank you  and  for what you did for the women...</td>\n",
       "      <td>2018-09-30T01:17:19Z</td>\n",
       "      <td>5</td>\n",
       "      <td>2</td>\n",
       "      <td>Tampa, FL</td>\n",
       "      <td>2559</td>\n",
       "      <td>4989</td>\n",
       "      <td>19889</td>\n",
       "      <td>0</td>\n",
       "    </tr>\n",
       "    <tr>\n",
       "      <th>2</th>\n",
       "      <td>1046207329589490000</td>\n",
       "      <td>Knitting (s) &amp;amp; getting ready for January 1...</td>\n",
       "      <td>2018-09-30T01:17:19Z</td>\n",
       "      <td>0</td>\n",
       "      <td>0</td>\n",
       "      <td>St Cloud, MN</td>\n",
       "      <td>16</td>\n",
       "      <td>300</td>\n",
       "      <td>9</td>\n",
       "      <td>0</td>\n",
       "    </tr>\n",
       "    <tr>\n",
       "      <th>3</th>\n",
       "      <td>1046207341283160000</td>\n",
       "      <td>Yep just like triffeling women weaponized thei...</td>\n",
       "      <td>2018-09-30T01:17:22Z</td>\n",
       "      <td>1</td>\n",
       "      <td>0</td>\n",
       "      <td>flyover country</td>\n",
       "      <td>3573</td>\n",
       "      <td>3732</td>\n",
       "      <td>38361</td>\n",
       "      <td>1</td>\n",
       "    </tr>\n",
       "    <tr>\n",
       "      <th>4</th>\n",
       "      <td>1046207347016820000</td>\n",
       "      <td>No, the President wants to end  movement posin...</td>\n",
       "      <td>2018-09-30T01:17:23Z</td>\n",
       "      <td>0</td>\n",
       "      <td>0</td>\n",
       "      <td>World</td>\n",
       "      <td>294</td>\n",
       "      <td>312</td>\n",
       "      <td>7635</td>\n",
       "      <td>0</td>\n",
       "    </tr>\n",
       "  </tbody>\n",
       "</table>\n",
       "</div>"
      ],
      "text/plain": [
       "             status_id                                               text  \\\n",
       "0  1046207313588230000  Entitled, obnoxious, defensive, lying weasel. ...   \n",
       "1  1046207328113080000  Thank you  and  for what you did for the women...   \n",
       "2  1046207329589490000  Knitting (s) &amp; getting ready for January 1...   \n",
       "3  1046207341283160000  Yep just like triffeling women weaponized thei...   \n",
       "4  1046207347016820000  No, the President wants to end  movement posin...   \n",
       "\n",
       "             created_at  favorite_count  retweet_count         location  \\\n",
       "0  2018-09-30T01:17:15Z               5              1      McAllen, TX   \n",
       "1  2018-09-30T01:17:19Z               5              2        Tampa, FL   \n",
       "2  2018-09-30T01:17:19Z               0              0     St Cloud, MN   \n",
       "3  2018-09-30T01:17:22Z               1              0  flyover country   \n",
       "4  2018-09-30T01:17:23Z               0              0            World   \n",
       "\n",
       "   followers_count  friends_count  statuses_count  category  \n",
       "0             2253           2303           23856         0  \n",
       "1             2559           4989           19889         0  \n",
       "2               16            300               9         0  \n",
       "3             3573           3732           38361         1  \n",
       "4              294            312            7635         0  "
      ]
     },
     "execution_count": 4,
     "metadata": {},
     "output_type": "execute_result"
    }
   ],
   "source": [
    "df = pd.read_csv(\"D:\\\\Sethu 45\\\\Hate tweets 05\\\\Twitter.csv\", encoding='ISO-8859-1')\n",
    "\n",
    "df.head()"
   ]
  },
  {
   "cell_type": "code",
   "execution_count": 5,
   "id": "e37ed85a",
   "metadata": {},
   "outputs": [
    {
     "name": "stdout",
     "output_type": "stream",
     "text": [
      "<class 'pandas.core.frame.DataFrame'>\n",
      "RangeIndex: 807174 entries, 0 to 807173\n",
      "Data columns (total 10 columns):\n",
      " #   Column           Non-Null Count   Dtype \n",
      "---  ------           --------------   ----- \n",
      " 0   status_id        807174 non-null  int64 \n",
      " 1   text             803638 non-null  object\n",
      " 2   created_at       807174 non-null  object\n",
      " 3   favorite_count   807174 non-null  int64 \n",
      " 4   retweet_count    807174 non-null  int64 \n",
      " 5   location         616394 non-null  object\n",
      " 6   followers_count  807174 non-null  int64 \n",
      " 7   friends_count    807174 non-null  int64 \n",
      " 8   statuses_count   807174 non-null  int64 \n",
      " 9   category         807174 non-null  int64 \n",
      "dtypes: int64(7), object(3)\n",
      "memory usage: 61.6+ MB\n"
     ]
    }
   ],
   "source": [
    "df.info()"
   ]
  },
  {
   "cell_type": "code",
   "execution_count": 6,
   "id": "bab24da4",
   "metadata": {},
   "outputs": [
    {
     "data": {
      "text/plain": [
       "status_id               0\n",
       "text                 3536\n",
       "created_at              0\n",
       "favorite_count          0\n",
       "retweet_count           0\n",
       "location           190780\n",
       "followers_count         0\n",
       "friends_count           0\n",
       "statuses_count          0\n",
       "category                0\n",
       "dtype: int64"
      ]
     },
     "execution_count": 6,
     "metadata": {},
     "output_type": "execute_result"
    }
   ],
   "source": [
    "df.isnull().sum()"
   ]
  },
  {
   "cell_type": "code",
   "execution_count": 7,
   "id": "57358723",
   "metadata": {},
   "outputs": [
    {
     "data": {
      "text/plain": [
       "0         Entitled, obnoxious, defensive, lying weasel. ...\n",
       "1         Thank you  and  for what you did for the women...\n",
       "2         Knitting (s) &amp; getting ready for January 1...\n",
       "3         Yep just like triffeling women weaponized thei...\n",
       "4         No, the President wants to end  movement posin...\n",
       "                                ...                        \n",
       "807169    Letâs not forget that this âiconic kissâ...\n",
       "807170    DEFINITELY....the only one any of us should su...\n",
       "807171    Did the  movement count the dollars of Erin An...\n",
       "807172    This is one of my all time fav songs &amp; vid...\n",
       "807173     I watched your news on the death of the sailo...\n",
       "Name: text, Length: 807174, dtype: object"
      ]
     },
     "execution_count": 7,
     "metadata": {},
     "output_type": "execute_result"
    }
   ],
   "source": [
    "df['text'].fillna('',inplace=True)\n",
    "df['text']"
   ]
  },
  {
   "cell_type": "code",
   "execution_count": 8,
   "id": "00ecf9e8",
   "metadata": {},
   "outputs": [
    {
     "data": {
      "text/plain": [
       "0                 McAllen, TX\n",
       "1                   Tampa, FL\n",
       "2                St Cloud, MN\n",
       "3             flyover country\n",
       "4                       World\n",
       "                 ...         \n",
       "807169          South Florida\n",
       "807170                       \n",
       "807171                 Philly\n",
       "807172    Berlin, Deutschland\n",
       "807173     Massachusetts, USA\n",
       "Name: location, Length: 807174, dtype: object"
      ]
     },
     "execution_count": 8,
     "metadata": {},
     "output_type": "execute_result"
    }
   ],
   "source": [
    "df['location'].fillna('',inplace=True)\n",
    "df['location']"
   ]
  },
  {
   "cell_type": "code",
   "execution_count": 9,
   "id": "5931ef86",
   "metadata": {},
   "outputs": [
    {
     "data": {
      "text/html": [
       "<div>\n",
       "<style scoped>\n",
       "    .dataframe tbody tr th:only-of-type {\n",
       "        vertical-align: middle;\n",
       "    }\n",
       "\n",
       "    .dataframe tbody tr th {\n",
       "        vertical-align: top;\n",
       "    }\n",
       "\n",
       "    .dataframe thead th {\n",
       "        text-align: right;\n",
       "    }\n",
       "</style>\n",
       "<table border=\"1\" class=\"dataframe\">\n",
       "  <thead>\n",
       "    <tr style=\"text-align: right;\">\n",
       "      <th></th>\n",
       "      <th>text</th>\n",
       "      <th>favorite_count</th>\n",
       "      <th>retweet_count</th>\n",
       "      <th>location</th>\n",
       "      <th>followers_count</th>\n",
       "      <th>friends_count</th>\n",
       "      <th>statuses_count</th>\n",
       "      <th>category</th>\n",
       "    </tr>\n",
       "  </thead>\n",
       "  <tbody>\n",
       "    <tr>\n",
       "      <th>0</th>\n",
       "      <td>Entitled, obnoxious, defensive, lying weasel. ...</td>\n",
       "      <td>5</td>\n",
       "      <td>1</td>\n",
       "      <td>McAllen, TX</td>\n",
       "      <td>2253</td>\n",
       "      <td>2303</td>\n",
       "      <td>23856</td>\n",
       "      <td>0</td>\n",
       "    </tr>\n",
       "    <tr>\n",
       "      <th>1</th>\n",
       "      <td>Thank you  and  for what you did for the women...</td>\n",
       "      <td>5</td>\n",
       "      <td>2</td>\n",
       "      <td>Tampa, FL</td>\n",
       "      <td>2559</td>\n",
       "      <td>4989</td>\n",
       "      <td>19889</td>\n",
       "      <td>0</td>\n",
       "    </tr>\n",
       "    <tr>\n",
       "      <th>2</th>\n",
       "      <td>Knitting (s) &amp;amp; getting ready for January 1...</td>\n",
       "      <td>0</td>\n",
       "      <td>0</td>\n",
       "      <td>St Cloud, MN</td>\n",
       "      <td>16</td>\n",
       "      <td>300</td>\n",
       "      <td>9</td>\n",
       "      <td>0</td>\n",
       "    </tr>\n",
       "    <tr>\n",
       "      <th>3</th>\n",
       "      <td>Yep just like triffeling women weaponized thei...</td>\n",
       "      <td>1</td>\n",
       "      <td>0</td>\n",
       "      <td>flyover country</td>\n",
       "      <td>3573</td>\n",
       "      <td>3732</td>\n",
       "      <td>38361</td>\n",
       "      <td>1</td>\n",
       "    </tr>\n",
       "    <tr>\n",
       "      <th>4</th>\n",
       "      <td>No, the President wants to end  movement posin...</td>\n",
       "      <td>0</td>\n",
       "      <td>0</td>\n",
       "      <td>World</td>\n",
       "      <td>294</td>\n",
       "      <td>312</td>\n",
       "      <td>7635</td>\n",
       "      <td>0</td>\n",
       "    </tr>\n",
       "  </tbody>\n",
       "</table>\n",
       "</div>"
      ],
      "text/plain": [
       "                                                text  favorite_count  \\\n",
       "0  Entitled, obnoxious, defensive, lying weasel. ...               5   \n",
       "1  Thank you  and  for what you did for the women...               5   \n",
       "2  Knitting (s) &amp; getting ready for January 1...               0   \n",
       "3  Yep just like triffeling women weaponized thei...               1   \n",
       "4  No, the President wants to end  movement posin...               0   \n",
       "\n",
       "   retweet_count         location  followers_count  friends_count  \\\n",
       "0              1      McAllen, TX             2253           2303   \n",
       "1              2        Tampa, FL             2559           4989   \n",
       "2              0     St Cloud, MN               16            300   \n",
       "3              0  flyover country             3573           3732   \n",
       "4              0            World              294            312   \n",
       "\n",
       "   statuses_count  category  \n",
       "0           23856         0  \n",
       "1           19889         0  \n",
       "2               9         0  \n",
       "3           38361         1  \n",
       "4            7635         0  "
      ]
     },
     "execution_count": 9,
     "metadata": {},
     "output_type": "execute_result"
    }
   ],
   "source": [
    "df=df.drop(['status_id','created_at'],axis=1)\n",
    "df.head()"
   ]
  },
  {
   "cell_type": "code",
   "execution_count": 10,
   "id": "0e8ef24e",
   "metadata": {},
   "outputs": [
    {
     "data": {
      "text/html": [
       "<div>\n",
       "<style scoped>\n",
       "    .dataframe tbody tr th:only-of-type {\n",
       "        vertical-align: middle;\n",
       "    }\n",
       "\n",
       "    .dataframe tbody tr th {\n",
       "        vertical-align: top;\n",
       "    }\n",
       "\n",
       "    .dataframe thead th {\n",
       "        text-align: right;\n",
       "    }\n",
       "</style>\n",
       "<table border=\"1\" class=\"dataframe\">\n",
       "  <thead>\n",
       "    <tr style=\"text-align: right;\">\n",
       "      <th></th>\n",
       "      <th>text</th>\n",
       "      <th>favorite_count</th>\n",
       "      <th>retweet_count</th>\n",
       "      <th>location</th>\n",
       "      <th>followers_count</th>\n",
       "      <th>friends_count</th>\n",
       "      <th>statuses_count</th>\n",
       "    </tr>\n",
       "  </thead>\n",
       "  <tbody>\n",
       "    <tr>\n",
       "      <th>0</th>\n",
       "      <td>Entitled, obnoxious, defensive, lying weasel. ...</td>\n",
       "      <td>5</td>\n",
       "      <td>1</td>\n",
       "      <td>McAllen, TX</td>\n",
       "      <td>2253</td>\n",
       "      <td>2303</td>\n",
       "      <td>23856</td>\n",
       "    </tr>\n",
       "    <tr>\n",
       "      <th>1</th>\n",
       "      <td>Thank you  and  for what you did for the women...</td>\n",
       "      <td>5</td>\n",
       "      <td>2</td>\n",
       "      <td>Tampa, FL</td>\n",
       "      <td>2559</td>\n",
       "      <td>4989</td>\n",
       "      <td>19889</td>\n",
       "    </tr>\n",
       "    <tr>\n",
       "      <th>2</th>\n",
       "      <td>Knitting (s) &amp;amp; getting ready for January 1...</td>\n",
       "      <td>0</td>\n",
       "      <td>0</td>\n",
       "      <td>St Cloud, MN</td>\n",
       "      <td>16</td>\n",
       "      <td>300</td>\n",
       "      <td>9</td>\n",
       "    </tr>\n",
       "    <tr>\n",
       "      <th>3</th>\n",
       "      <td>Yep just like triffeling women weaponized thei...</td>\n",
       "      <td>1</td>\n",
       "      <td>0</td>\n",
       "      <td>flyover country</td>\n",
       "      <td>3573</td>\n",
       "      <td>3732</td>\n",
       "      <td>38361</td>\n",
       "    </tr>\n",
       "    <tr>\n",
       "      <th>4</th>\n",
       "      <td>No, the President wants to end  movement posin...</td>\n",
       "      <td>0</td>\n",
       "      <td>0</td>\n",
       "      <td>World</td>\n",
       "      <td>294</td>\n",
       "      <td>312</td>\n",
       "      <td>7635</td>\n",
       "    </tr>\n",
       "    <tr>\n",
       "      <th>...</th>\n",
       "      <td>...</td>\n",
       "      <td>...</td>\n",
       "      <td>...</td>\n",
       "      <td>...</td>\n",
       "      <td>...</td>\n",
       "      <td>...</td>\n",
       "      <td>...</td>\n",
       "    </tr>\n",
       "    <tr>\n",
       "      <th>807169</th>\n",
       "      <td>Letâs not forget that this âiconic kissâ...</td>\n",
       "      <td>2</td>\n",
       "      <td>0</td>\n",
       "      <td>South Florida</td>\n",
       "      <td>206</td>\n",
       "      <td>412</td>\n",
       "      <td>1247</td>\n",
       "    </tr>\n",
       "    <tr>\n",
       "      <th>807170</th>\n",
       "      <td>DEFINITELY....the only one any of us should su...</td>\n",
       "      <td>3</td>\n",
       "      <td>0</td>\n",
       "      <td></td>\n",
       "      <td>63</td>\n",
       "      <td>6</td>\n",
       "      <td>137</td>\n",
       "    </tr>\n",
       "    <tr>\n",
       "      <th>807171</th>\n",
       "      <td>Did the  movement count the dollars of Erin An...</td>\n",
       "      <td>0</td>\n",
       "      <td>0</td>\n",
       "      <td>Philly</td>\n",
       "      <td>2721</td>\n",
       "      <td>3509</td>\n",
       "      <td>66966</td>\n",
       "    </tr>\n",
       "    <tr>\n",
       "      <th>807172</th>\n",
       "      <td>This is one of my all time fav songs &amp;amp; vid...</td>\n",
       "      <td>1</td>\n",
       "      <td>1</td>\n",
       "      <td>Berlin, Deutschland</td>\n",
       "      <td>2683</td>\n",
       "      <td>1011</td>\n",
       "      <td>15455</td>\n",
       "    </tr>\n",
       "    <tr>\n",
       "      <th>807173</th>\n",
       "      <td>I watched your news on the death of the sailo...</td>\n",
       "      <td>1</td>\n",
       "      <td>0</td>\n",
       "      <td>Massachusetts, USA</td>\n",
       "      <td>237</td>\n",
       "      <td>741</td>\n",
       "      <td>789</td>\n",
       "    </tr>\n",
       "  </tbody>\n",
       "</table>\n",
       "<p>807174 rows × 7 columns</p>\n",
       "</div>"
      ],
      "text/plain": [
       "                                                     text  favorite_count  \\\n",
       "0       Entitled, obnoxious, defensive, lying weasel. ...               5   \n",
       "1       Thank you  and  for what you did for the women...               5   \n",
       "2       Knitting (s) &amp; getting ready for January 1...               0   \n",
       "3       Yep just like triffeling women weaponized thei...               1   \n",
       "4       No, the President wants to end  movement posin...               0   \n",
       "...                                                   ...             ...   \n",
       "807169  Letâs not forget that this âiconic kissâ...               2   \n",
       "807170  DEFINITELY....the only one any of us should su...               3   \n",
       "807171  Did the  movement count the dollars of Erin An...               0   \n",
       "807172  This is one of my all time fav songs &amp; vid...               1   \n",
       "807173   I watched your news on the death of the sailo...               1   \n",
       "\n",
       "        retweet_count             location  followers_count  friends_count  \\\n",
       "0                   1          McAllen, TX             2253           2303   \n",
       "1                   2            Tampa, FL             2559           4989   \n",
       "2                   0         St Cloud, MN               16            300   \n",
       "3                   0      flyover country             3573           3732   \n",
       "4                   0                World              294            312   \n",
       "...               ...                  ...              ...            ...   \n",
       "807169              0        South Florida              206            412   \n",
       "807170              0                                    63              6   \n",
       "807171              0               Philly             2721           3509   \n",
       "807172              1  Berlin, Deutschland             2683           1011   \n",
       "807173              0   Massachusetts, USA              237            741   \n",
       "\n",
       "        statuses_count  \n",
       "0                23856  \n",
       "1                19889  \n",
       "2                    9  \n",
       "3                38361  \n",
       "4                 7635  \n",
       "...                ...  \n",
       "807169            1247  \n",
       "807170             137  \n",
       "807171           66966  \n",
       "807172           15455  \n",
       "807173             789  \n",
       "\n",
       "[807174 rows x 7 columns]"
      ]
     },
     "execution_count": 10,
     "metadata": {},
     "output_type": "execute_result"
    }
   ],
   "source": [
    "x=df.iloc[:,:-1]\n",
    "x"
   ]
  },
  {
   "cell_type": "code",
   "execution_count": 11,
   "id": "f80648b3",
   "metadata": {},
   "outputs": [
    {
     "data": {
      "text/plain": [
       "0         0\n",
       "1         0\n",
       "2         0\n",
       "3         1\n",
       "4         0\n",
       "         ..\n",
       "807169    0\n",
       "807170    0\n",
       "807171    0\n",
       "807172    1\n",
       "807173    0\n",
       "Name: category, Length: 807174, dtype: int64"
      ]
     },
     "execution_count": 11,
     "metadata": {},
     "output_type": "execute_result"
    }
   ],
   "source": [
    "y=df.iloc[:,-1]\n",
    "y"
   ]
  },
  {
   "cell_type": "code",
   "execution_count": 12,
   "id": "afd6987d",
   "metadata": {},
   "outputs": [],
   "source": [
    "from sklearn.model_selection import train_test_split\n",
    "x_train,x_test,y_train,y_test=train_test_split(x,y,random_state=0)"
   ]
  },
  {
   "cell_type": "code",
   "execution_count": 13,
   "id": "74fd390a",
   "metadata": {},
   "outputs": [
    {
     "data": {
      "text/plain": [
       "<605380x130326 sparse matrix of type '<class 'numpy.int64'>'\n",
       "\twith 11031463 stored elements in Compressed Sparse Row format>"
      ]
     },
     "execution_count": 13,
     "metadata": {},
     "output_type": "execute_result"
    }
   ],
   "source": [
    "from sklearn.feature_extraction.text import CountVectorizer\n",
    "vectorizer=CountVectorizer()\n",
    "x_train_text=vectorizer.fit_transform(x_train['text'])\n",
    "x_train_text"
   ]
  },
  {
   "cell_type": "code",
   "execution_count": 14,
   "id": "8611442a",
   "metadata": {},
   "outputs": [
    {
     "data": {
      "text/plain": [
       "<201794x130326 sparse matrix of type '<class 'numpy.int64'>'\n",
       "\twith 3651979 stored elements in Compressed Sparse Row format>"
      ]
     },
     "execution_count": 14,
     "metadata": {},
     "output_type": "execute_result"
    }
   ],
   "source": [
    "x_test_text=vectorizer.transform(x_test['text'])\n",
    "x_test_text"
   ]
  },
  {
   "cell_type": "code",
   "execution_count": 15,
   "id": "9623d936",
   "metadata": {},
   "outputs": [],
   "source": [
    "from sklearn.naive_bayes import MultinomialNB\n",
    "model=MultinomialNB()"
   ]
  },
  {
   "cell_type": "code",
   "execution_count": 16,
   "id": "a507d47e",
   "metadata": {},
   "outputs": [
    {
     "data": {
      "text/html": [
       "<style>#sk-container-id-1 {color: black;}#sk-container-id-1 pre{padding: 0;}#sk-container-id-1 div.sk-toggleable {background-color: white;}#sk-container-id-1 label.sk-toggleable__label {cursor: pointer;display: block;width: 100%;margin-bottom: 0;padding: 0.3em;box-sizing: border-box;text-align: center;}#sk-container-id-1 label.sk-toggleable__label-arrow:before {content: \"▸\";float: left;margin-right: 0.25em;color: #696969;}#sk-container-id-1 label.sk-toggleable__label-arrow:hover:before {color: black;}#sk-container-id-1 div.sk-estimator:hover label.sk-toggleable__label-arrow:before {color: black;}#sk-container-id-1 div.sk-toggleable__content {max-height: 0;max-width: 0;overflow: hidden;text-align: left;background-color: #f0f8ff;}#sk-container-id-1 div.sk-toggleable__content pre {margin: 0.2em;color: black;border-radius: 0.25em;background-color: #f0f8ff;}#sk-container-id-1 input.sk-toggleable__control:checked~div.sk-toggleable__content {max-height: 200px;max-width: 100%;overflow: auto;}#sk-container-id-1 input.sk-toggleable__control:checked~label.sk-toggleable__label-arrow:before {content: \"▾\";}#sk-container-id-1 div.sk-estimator input.sk-toggleable__control:checked~label.sk-toggleable__label {background-color: #d4ebff;}#sk-container-id-1 div.sk-label input.sk-toggleable__control:checked~label.sk-toggleable__label {background-color: #d4ebff;}#sk-container-id-1 input.sk-hidden--visually {border: 0;clip: rect(1px 1px 1px 1px);clip: rect(1px, 1px, 1px, 1px);height: 1px;margin: -1px;overflow: hidden;padding: 0;position: absolute;width: 1px;}#sk-container-id-1 div.sk-estimator {font-family: monospace;background-color: #f0f8ff;border: 1px dotted black;border-radius: 0.25em;box-sizing: border-box;margin-bottom: 0.5em;}#sk-container-id-1 div.sk-estimator:hover {background-color: #d4ebff;}#sk-container-id-1 div.sk-parallel-item::after {content: \"\";width: 100%;border-bottom: 1px solid gray;flex-grow: 1;}#sk-container-id-1 div.sk-label:hover label.sk-toggleable__label {background-color: #d4ebff;}#sk-container-id-1 div.sk-serial::before {content: \"\";position: absolute;border-left: 1px solid gray;box-sizing: border-box;top: 0;bottom: 0;left: 50%;z-index: 0;}#sk-container-id-1 div.sk-serial {display: flex;flex-direction: column;align-items: center;background-color: white;padding-right: 0.2em;padding-left: 0.2em;position: relative;}#sk-container-id-1 div.sk-item {position: relative;z-index: 1;}#sk-container-id-1 div.sk-parallel {display: flex;align-items: stretch;justify-content: center;background-color: white;position: relative;}#sk-container-id-1 div.sk-item::before, #sk-container-id-1 div.sk-parallel-item::before {content: \"\";position: absolute;border-left: 1px solid gray;box-sizing: border-box;top: 0;bottom: 0;left: 50%;z-index: -1;}#sk-container-id-1 div.sk-parallel-item {display: flex;flex-direction: column;z-index: 1;position: relative;background-color: white;}#sk-container-id-1 div.sk-parallel-item:first-child::after {align-self: flex-end;width: 50%;}#sk-container-id-1 div.sk-parallel-item:last-child::after {align-self: flex-start;width: 50%;}#sk-container-id-1 div.sk-parallel-item:only-child::after {width: 0;}#sk-container-id-1 div.sk-dashed-wrapped {border: 1px dashed gray;margin: 0 0.4em 0.5em 0.4em;box-sizing: border-box;padding-bottom: 0.4em;background-color: white;}#sk-container-id-1 div.sk-label label {font-family: monospace;font-weight: bold;display: inline-block;line-height: 1.2em;}#sk-container-id-1 div.sk-label-container {text-align: center;}#sk-container-id-1 div.sk-container {/* jupyter's `normalize.less` sets `[hidden] { display: none; }` but bootstrap.min.css set `[hidden] { display: none !important; }` so we also need the `!important` here to be able to override the default hidden behavior on the sphinx rendered scikit-learn.org. See: https://github.com/scikit-learn/scikit-learn/issues/21755 */display: inline-block !important;position: relative;}#sk-container-id-1 div.sk-text-repr-fallback {display: none;}</style><div id=\"sk-container-id-1\" class=\"sk-top-container\"><div class=\"sk-text-repr-fallback\"><pre>MultinomialNB()</pre><b>In a Jupyter environment, please rerun this cell to show the HTML representation or trust the notebook. <br />On GitHub, the HTML representation is unable to render, please try loading this page with nbviewer.org.</b></div><div class=\"sk-container\" hidden><div class=\"sk-item\"><div class=\"sk-estimator sk-toggleable\"><input class=\"sk-toggleable__control sk-hidden--visually\" id=\"sk-estimator-id-1\" type=\"checkbox\" checked><label for=\"sk-estimator-id-1\" class=\"sk-toggleable__label sk-toggleable__label-arrow\">MultinomialNB</label><div class=\"sk-toggleable__content\"><pre>MultinomialNB()</pre></div></div></div></div></div>"
      ],
      "text/plain": [
       "MultinomialNB()"
      ]
     },
     "execution_count": 16,
     "metadata": {},
     "output_type": "execute_result"
    }
   ],
   "source": [
    "model.fit(x_train_text,y_train)"
   ]
  },
  {
   "cell_type": "code",
   "execution_count": 17,
   "id": "79270d3b",
   "metadata": {},
   "outputs": [
    {
     "data": {
      "text/plain": [
       "array([0, 0, 0, ..., 0, 0, 0], dtype=int64)"
      ]
     },
     "execution_count": 17,
     "metadata": {},
     "output_type": "execute_result"
    }
   ],
   "source": [
    "y_pred=model.predict(x_test_text)\n",
    "y_pred"
   ]
  },
  {
   "cell_type": "code",
   "execution_count": 18,
   "id": "50d2436b",
   "metadata": {},
   "outputs": [
    {
     "name": "stdout",
     "output_type": "stream",
     "text": [
      "Accuracy score of the model is93.11\n"
     ]
    }
   ],
   "source": [
    "from sklearn.metrics import accuracy_score, classification_report\n",
    "accuracy=accuracy_score(y_test,y_pred)*100\n",
    "print('Accuracy score of the model is{:.2f}'.format(accuracy))"
   ]
  },
  {
   "cell_type": "code",
   "execution_count": 19,
   "id": "bae31fe7",
   "metadata": {},
   "outputs": [
    {
     "name": "stdout",
     "output_type": "stream",
     "text": [
      "\n",
      "Classification Report:\n",
      "              precision    recall  f1-score   support\n",
      "\n",
      "           0       0.96      0.96      0.96    178149\n",
      "           1       0.71      0.71      0.71     23645\n",
      "\n",
      "    accuracy                           0.93    201794\n",
      "   macro avg       0.83      0.83      0.83    201794\n",
      "weighted avg       0.93      0.93      0.93    201794\n",
      "\n"
     ]
    }
   ],
   "source": [
    "from sklearn. metrics import classification_report\n",
    "class_report = classification_report (y_test, y_pred)\n",
    "print (f\"\\nClassification Report:\\n{class_report}\")\n"
   ]
  },
  {
   "cell_type": "code",
   "execution_count": null,
   "id": "ceba21ba",
   "metadata": {},
   "outputs": [],
   "source": []
  }
 ],
 "metadata": {
  "kernelspec": {
   "display_name": "Python 3 (ipykernel)",
   "language": "python",
   "name": "python3"
  },
  "language_info": {
   "codemirror_mode": {
    "name": "ipython",
    "version": 3
   },
   "file_extension": ".py",
   "mimetype": "text/x-python",
   "name": "python",
   "nbconvert_exporter": "python",
   "pygments_lexer": "ipython3",
   "version": "3.11.5"
  }
 },
 "nbformat": 4,
 "nbformat_minor": 5
}
